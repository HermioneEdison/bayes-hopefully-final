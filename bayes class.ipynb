{
 "cells": [
  {
   "cell_type": "code",
   "execution_count": 3,
   "metadata": {},
   "outputs": [],
   "source": [
    "import pandas as pd\n",
    "from scipy import stats"
   ]
  },
  {
   "cell_type": "code",
   "execution_count": 4,
   "metadata": {},
   "outputs": [],
   "source": [
    "def get_normal_distribution(mean,standard_diviation):\n",
    "    return lambda x: stats.norm.pdf(x,mean,standard_diviation)"
   ]
  },
  {
   "cell_type": "code",
   "execution_count": 5,
   "metadata": {},
   "outputs": [],
   "source": [
    "def get_data(name,file='.xlsx'):\n",
    "    return pd.read_excel(name+file)"
   ]
  },
  {
   "cell_type": "code",
   "execution_count": 6,
   "metadata": {},
   "outputs": [
    {
     "data": {
      "text/html": [
       "<div>\n",
       "<style scoped>\n",
       "    .dataframe tbody tr th:only-of-type {\n",
       "        vertical-align: middle;\n",
       "    }\n",
       "\n",
       "    .dataframe tbody tr th {\n",
       "        vertical-align: top;\n",
       "    }\n",
       "\n",
       "    .dataframe thead th {\n",
       "        text-align: right;\n",
       "    }\n",
       "</style>\n",
       "<table border=\"1\" class=\"dataframe\">\n",
       "  <thead>\n",
       "    <tr style=\"text-align: right;\">\n",
       "      <th></th>\n",
       "      <th>证券代码</th>\n",
       "      <th>证券简称</th>\n",
       "      <th>营运资本/总资产</th>\n",
       "      <th>留存收益/总资产</th>\n",
       "      <th>息税前利润(TTM)/总资产</th>\n",
       "      <th>当日总市值/负债总计</th>\n",
       "      <th>股东权益合计(含少数)/负债总计</th>\n",
       "      <th>营业收入/总资产</th>\n",
       "      <th>Z值</th>\n",
       "      <th>类别</th>\n",
       "    </tr>\n",
       "  </thead>\n",
       "  <tbody>\n",
       "    <tr>\n",
       "      <th>0</th>\n",
       "      <td>600265.SH</td>\n",
       "      <td>*ST景谷</td>\n",
       "      <td>-10.1488</td>\n",
       "      <td>-27.5182</td>\n",
       "      <td>-18.8759</td>\n",
       "      <td>192.1327</td>\n",
       "      <td>34.6317</td>\n",
       "      <td>52.0662</td>\n",
       "      <td>0.5430</td>\n",
       "      <td>ST</td>\n",
       "    </tr>\n",
       "    <tr>\n",
       "      <th>1</th>\n",
       "      <td>600250.SH</td>\n",
       "      <td>南纺股份</td>\n",
       "      <td>-35.7896</td>\n",
       "      <td>-6.8155</td>\n",
       "      <td>-0.5253</td>\n",
       "      <td>46.1429</td>\n",
       "      <td>5.2557</td>\n",
       "      <td>157.0272</td>\n",
       "      <td>1.3033</td>\n",
       "      <td>ST</td>\n",
       "    </tr>\n",
       "    <tr>\n",
       "      <th>2</th>\n",
       "      <td>600359.SH</td>\n",
       "      <td>新农开发</td>\n",
       "      <td>-22.5250</td>\n",
       "      <td>-15.3026</td>\n",
       "      <td>-18.4559</td>\n",
       "      <td>64.8052</td>\n",
       "      <td>6.7038</td>\n",
       "      <td>42.6530</td>\n",
       "      <td>-0.2786</td>\n",
       "      <td>ST</td>\n",
       "    </tr>\n",
       "    <tr>\n",
       "      <th>3</th>\n",
       "      <td>000972.SZ</td>\n",
       "      <td>*ST中基</td>\n",
       "      <td>-31.1206</td>\n",
       "      <td>-28.2480</td>\n",
       "      <td>-24.1481</td>\n",
       "      <td>50.4261</td>\n",
       "      <td>1.6415</td>\n",
       "      <td>32.0165</td>\n",
       "      <td>-0.9434</td>\n",
       "      <td>ST</td>\n",
       "    </tr>\n",
       "    <tr>\n",
       "      <th>4</th>\n",
       "      <td>600392.SH</td>\n",
       "      <td>盛和资源</td>\n",
       "      <td>50.8419</td>\n",
       "      <td>-9.8346</td>\n",
       "      <td>-16.3604</td>\n",
       "      <td>230.6682</td>\n",
       "      <td>31.7013</td>\n",
       "      <td>43.9781</td>\n",
       "      <td>1.7559</td>\n",
       "      <td>ST</td>\n",
       "    </tr>\n",
       "  </tbody>\n",
       "</table>\n",
       "</div>"
      ],
      "text/plain": [
       "        证券代码   证券简称  营运资本/总资产  留存收益/总资产  息税前利润(TTM)/总资产  当日总市值/负债总计  \\\n",
       "0  600265.SH  *ST景谷  -10.1488  -27.5182        -18.8759    192.1327   \n",
       "1  600250.SH   南纺股份  -35.7896   -6.8155         -0.5253     46.1429   \n",
       "2  600359.SH   新农开发  -22.5250  -15.3026        -18.4559     64.8052   \n",
       "3  000972.SZ  *ST中基  -31.1206  -28.2480        -24.1481     50.4261   \n",
       "4  600392.SH   盛和资源   50.8419   -9.8346        -16.3604    230.6682   \n",
       "\n",
       "   股东权益合计(含少数)/负债总计  营业收入/总资产      Z值  类别  \n",
       "0           34.6317   52.0662  0.5430  ST  \n",
       "1            5.2557  157.0272  1.3033  ST  \n",
       "2            6.7038   42.6530 -0.2786  ST  \n",
       "3            1.6415   32.0165 -0.9434  ST  \n",
       "4           31.7013   43.9781  1.7559  ST  "
      ]
     },
     "execution_count": 6,
     "metadata": {},
     "output_type": "execute_result"
    }
   ],
   "source": [
    "data=get_data('data')\n",
    "data.head()"
   ]
  },
  {
   "cell_type": "code",
   "execution_count": null,
   "metadata": {},
   "outputs": [],
   "source": [
    "features=['营运资本/总资产','留存收益/总资产','息税前利润(TTM)/总资产','当日总市值/负债总计','股东权益合计(含少数)/负债总计','营业收入/总资产']\n",
    "classes=['ST','非ST']\n",
    "class_name='类别'"
   ]
  },
  {
   "cell_type": "code",
   "execution_count": 8,
   "metadata": {},
   "outputs": [],
   "source": [
    "def call_prior_probability(data,classes):\n",
    "    for class_ in classes:\n",
    "        P_st=len(data[data['类别']=='ST'])/len(data['类别'])\n",
    "        P_not_st=len(data[data['类别']=='非ST'])/len(data['类别'])\n",
    "    return {'Yes':P_st,'No':'P_not_st'}"
   ]
  },
  {
   "cell_type": "code",
   "execution_count": 12,
   "metadata": {},
   "outputs": [],
   "source": [
    "def call_likelihood(data,features,classes,class_name):\n",
    "    likelihood={}\n",
    "    for feature in features:\n",
    "        for class_ in classes:\n",
    "            data=data.loc[:,[feature,class_name]]\n",
    "            mean=data[data[class_name]==class_].mean()[0]\n",
    "            std=data[data[class_name]==class_].std()[0]\n",
    "            lilelihood[featrue+class_]=get_normal_distribution(mean,std)\n",
    "    return likelihood"
   ]
  },
  {
   "cell_type": "code",
   "execution_count": 11,
   "metadata": {},
   "outputs": [
    {
     "name": "stdout",
     "output_type": "stream",
     "text": [
      "<generator object DataFrame.iterrows at 0x0000029521123EB0>\n"
     ]
    }
   ],
   "source": [
    "def predict(x1,x2,x3,x4,x5,likelihood,prior_probability):\n",
    "    score={}\n",
    "    score_label['Yes']=prior_probability['Yes']*likelihood"
   ]
  }
 ],
 "metadata": {
  "kernelspec": {
   "display_name": "Python 3",
   "language": "python",
   "name": "python3"
  },
  "language_info": {
   "codemirror_mode": {
    "name": "ipython",
    "version": 3
   },
   "file_extension": ".py",
   "mimetype": "text/x-python",
   "name": "python",
   "nbconvert_exporter": "python",
   "pygments_lexer": "ipython3",
   "version": "3.8.3"
  }
 },
 "nbformat": 4,
 "nbformat_minor": 4
}
